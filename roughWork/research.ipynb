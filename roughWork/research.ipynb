{
 "cells": [
  {
   "cell_type": "code",
   "execution_count": 10,
   "metadata": {},
   "outputs": [],
   "source": [
    "from transformers import AutoModelForSequenceClassification\n",
    "from transformers import AutoTokenizer, AutoConfig\n",
    "import numpy as np\n",
    "from scipy.special import softmax"
   ]
  },
  {
   "cell_type": "code",
   "execution_count": 5,
   "metadata": {},
   "outputs": [],
   "source": [
    "class sentimentAnalysis:\n",
    "    def __init__(self, model_name):\n",
    "        self.model = self.__get_model(model_name)\n",
    "        self.tokenizer = self.__get_tokenizer(model_name)\n",
    "        self.config = self.__get_config(model_name)\n",
    "        self.model_name = model_name\n",
    "    \n",
    "    def __get_model(self,model_name):\n",
    "        return AutoModelForSequenceClassification.from_pretrained(model_name)\n",
    "\n",
    "    def __get_tokenizer(self,model_name):\n",
    "        return AutoTokenizer.from_pretrained(model_name)\n",
    "\n",
    "    def __get_config(self,model_name):\n",
    "        return AutoConfig.from_pretrained(model_name)\n",
    "\n",
    "    def preprocess(self,text):\n",
    "        new_text = []\n",
    "        for t in text.split(\" \"):\n",
    "            t = '@user' if t.startswith('@') and len(t) > 1 else t\n",
    "            t = 'http' if t.startswith('http') else t\n",
    "            new_text.append(t)\n",
    "        return \" \".join(new_text)\n",
    "\n",
    "    def get_sentiment(self,text):\n",
    "        ptext = self.preprocess(text)\n",
    "        encoded_input = self.tokenizer(ptext, return_tensors='pt')\n",
    "        output = self.model(**encoded_input)\n",
    "        scores = output[0][0].detach().numpy()\n",
    "        scores = softmax(scores)\n",
    "        ranking = np.argsort(scores)\n",
    "        ranking = ranking[::-1]\n",
    "        return self.config.id2label[ranking[0]]    \n"
   ]
  },
  {
   "cell_type": "code",
   "execution_count": 6,
   "metadata": {},
   "outputs": [
    {
     "name": "stderr",
     "output_type": "stream",
     "text": [
      "Some weights of the model checkpoint at cardiffnlp/twitter-roberta-base-sentiment-latest were not used when initializing RobertaForSequenceClassification: ['roberta.pooler.dense.bias', 'roberta.pooler.dense.weight']\n",
      "- This IS expected if you are initializing RobertaForSequenceClassification from the checkpoint of a model trained on another task or with another architecture (e.g. initializing a BertForSequenceClassification model from a BertForPreTraining model).\n",
      "- This IS NOT expected if you are initializing RobertaForSequenceClassification from the checkpoint of a model that you expect to be exactly identical (initializing a BertForSequenceClassification model from a BertForSequenceClassification model).\n"
     ]
    }
   ],
   "source": [
    "MODEL = f\"cardiffnlp/twitter-roberta-base-sentiment-latest\"\n",
    "\n",
    "sentiment_classifier = sentimentAnalysis(MODEL)"
   ]
  },
  {
   "cell_type": "code",
   "execution_count": 8,
   "metadata": {},
   "outputs": [
    {
     "name": "stdout",
     "output_type": "stream",
     "text": [
      "{'i like meat': 'positive', 'i hate meat': 'negative', 'i love meat': 'positive', 'math is hard': 'negative', 'life is hard': 'negative'}\n"
     ]
    }
   ],
   "source": [
    "text_arr = [\"i like meat\",\n",
    "            \"i hate meat\",\n",
    "            \"i love meat\",\n",
    "            \"math is hard\",\n",
    "            \"life is hard\"]\n",
    "result = {}\n",
    "for i in text_arr:\n",
    "    result[i] = sentiment_classifier.get_sentiment(i)\n",
    "print(result)"
   ]
  },
  {
   "cell_type": "code",
   "execution_count": null,
   "metadata": {},
   "outputs": [],
   "source": []
  }
 ],
 "metadata": {
  "kernelspec": {
   "display_name": "Python 3",
   "language": "python",
   "name": "python3"
  },
  "language_info": {
   "codemirror_mode": {
    "name": "ipython",
    "version": 3
   },
   "file_extension": ".py",
   "mimetype": "text/x-python",
   "name": "python",
   "nbconvert_exporter": "python",
   "pygments_lexer": "ipython3",
   "version": "3.10.12"
  },
  "orig_nbformat": 4
 },
 "nbformat": 4,
 "nbformat_minor": 2
}
